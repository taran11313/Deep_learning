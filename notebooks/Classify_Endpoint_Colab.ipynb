{
  "cells": [
    {
      "cell_type": "markdown",
      "metadata": {
        "id": "xYo_6bTr21nz"
      },
      "source": [
        "# The Classify Endpoint Colab\n",
        "\n",
        "In this lab, we'll learn how to use Cohere's Classify cohere endpoint. This codelab accompanies the [Classify endpoint lesson](https://docs.cohere.com/docs/classify-endpoint/) of LLM University.\n",
        "\n",
        "This is part of a bigger [colab](https://colab.research.google.com/github/cohere-ai/notebooks/blob/main/notebooks/Hello_World_Meet_Language_AI.ipynb#) containing more endpoints, please feel free to check it out!"
      ]
    },
    {
      "cell_type": "markdown",
      "source": [
        "# Setting up"
      ],
      "metadata": {
        "id": "jlINcHlkFKXw"
      }
    },
    {
      "cell_type": "markdown",
      "metadata": {
        "id": "1ys2CHEgurfe"
      },
      "source": [
        "The first step is to install the Cohere Python SDK. Next, create an API key, which you can generate from the Cohere [dashboard](https://os.cohere.ai/register) or [CLI tool](https://docs.cohere.ai/cli-key)."
      ]
    },
    {
      "cell_type": "code",
      "execution_count": 1,
      "metadata": {
        "id": "QdEURifRRUgy"
      },
      "outputs": [],
      "source": [
        "# Install the libraries\n",
        "! pip install cohere altair umap-learn > /dev/null"
      ]
    },
    {
      "cell_type": "code",
      "execution_count": 2,
      "metadata": {
        "id": "YYi9JxxFRWX7"
      },
      "outputs": [],
      "source": [
        "# Import the libraries\n",
        "import cohere\n",
        "import pandas as pd\n",
        "import numpy as np\n",
        "import altair as alt\n",
        "import textwrap as tr\n",
        "\n",
        "# Setup the Cohere client\n",
        "api_key = 'AAr0vB0rJOAIfTsMb38WoPSwsukz4eEbpdIA7AWk' # Paste your API key here. Remember to not share it publicly\n",
        "co = cohere.Client(api_key)"
      ]
    },
    {
      "cell_type": "markdown",
      "metadata": {
        "id": "7ha9EyO_RunK"
      },
      "source": [
        "# Classifying Text"
      ]
    },
    {
      "cell_type": "markdown",
      "metadata": {
        "id": "yX8fQJ5LAcfz"
      },
      "source": [
        "Cohere’s Classify endpoint makes it easy to take a list of texts and predict their categories, or classes. A typical machine learning model requires many training examples to perform text classification, but with the Classify endpoint, you can get started with as few as 5 examples per class."
      ]
    },
    {
      "cell_type": "markdown",
      "metadata": {
        "id": "DtHJ02d7Rz8q"
      },
      "source": [
        "### Sentiment Analysis"
      ]
    },
    {
      "cell_type": "code",
      "execution_count": 3,
      "metadata": {
        "id": "-lSi_UmQEfy_"
      },
      "outputs": [],
      "source": [
        "# Create the training examples for the classifier\n",
        "from cohere.responses.classify import Example\n",
        "\n",
        "examples = [Example(\"I’m so proud of you\", \"positive\"), \n",
        "            Example(\"What a great time to be alive\", \"positive\"), \n",
        "            Example(\"That’s awesome work\", \"positive\"), \n",
        "            Example(\"The service was amazing\", \"positive\"), \n",
        "            Example(\"I love my family\", \"positive\"), \n",
        "            Example(\"They don't care about me\", \"negative\"), \n",
        "            Example(\"I hate this place\", \"negative\"), \n",
        "            Example(\"The most ridiculous thing I've ever heard\", \"negative\"), \n",
        "            Example(\"I am really frustrated\", \"negative\"), \n",
        "            Example(\"This is so unfair\", \"negative\"),\n",
        "            Example(\"This made me think\", \"neutral\"), \n",
        "            Example(\"The good old days\", \"neutral\"), \n",
        "            Example(\"What's the difference\", \"neutral\"), \n",
        "            Example(\"You can't ignore this\", \"neutral\"), \n",
        "            Example(\"That's how I see it\", \"neutral\")            \n",
        "            ]"
      ]
    },
    {
      "cell_type": "code",
      "execution_count": 4,
      "metadata": {
        "id": "QpC1Z4xEEWs0"
      },
      "outputs": [],
      "source": [
        "# Enter the inputs to be classified\n",
        "inputs=[\"Hello, world! What a beautiful day\",\n",
        "        \"It was a great time with great people\",\n",
        "        \"Great place to work\",\n",
        "        \"That was a wonderful evening\",\n",
        "        \"Maybe this is why\",\n",
        "        \"Let's start again\",\n",
        "        \"That's how I see it\",\n",
        "        \"These are all facts\",\n",
        "        \"This is the worst thing\",\n",
        "        \"I cannot stand this any longer\",\n",
        "        \"This is really annoying\",\n",
        "        \"I am just plain fed up\"\n",
        "        ]"
      ]
    },
    {
      "cell_type": "code",
      "execution_count": 5,
      "metadata": {
        "id": "etTr200IRszm"
      },
      "outputs": [],
      "source": [
        "# A function that classifies a list of inputs given the examples\n",
        "def classify_text(inputs, examples):\n",
        "  \"\"\"\n",
        "  Classify a list of input texts\n",
        "  Arguments:\n",
        "    inputs(list[str]): a list of input texts to be classified\n",
        "    examples(list[Example]): a list of example texts and class labels\n",
        "  Returns:\n",
        "    classifications(list): each result contains the text, labels, and conf values\n",
        "  \"\"\"\n",
        "  # Classify text by calling the Classify endpoint\n",
        "  response = co.classify(\n",
        "    model='embed-english-v2.0',\n",
        "    inputs=inputs,\n",
        "    examples=examples)\n",
        "  \n",
        "  classifications = response.classifications\n",
        "  \n",
        "  return classifications"
      ]
    },
    {
      "cell_type": "code",
      "execution_count": 6,
      "metadata": {
        "colab": {
          "base_uri": "https://localhost:8080/"
        },
        "id": "kOdL3U0jRswU",
        "outputId": "2329e2d9-3adb-4b26-b161-5ff48d801541"
      },
      "outputs": [
        {
          "output_type": "stream",
          "name": "stdout",
          "text": [
            "Input: Hello, world! What a beautiful day\n",
            "Prediction: positive\n",
            "Confidence: 0.83\n",
            "----------\n",
            "Input: It was a great time with great people\n",
            "Prediction: positive\n",
            "Confidence: 0.99\n",
            "----------\n",
            "Input: Great place to work\n",
            "Prediction: positive\n",
            "Confidence: 0.91\n",
            "----------\n",
            "Input: That was a wonderful evening\n",
            "Prediction: positive\n",
            "Confidence: 0.96\n",
            "----------\n",
            "Input: Maybe this is why\n",
            "Prediction: neutral\n",
            "Confidence: 0.70\n",
            "----------\n",
            "Input: Let's start again\n",
            "Prediction: neutral\n",
            "Confidence: 0.83\n",
            "----------\n",
            "Input: That's how I see it\n",
            "Prediction: neutral\n",
            "Confidence: 1.00\n",
            "----------\n",
            "Input: These are all facts\n",
            "Prediction: neutral\n",
            "Confidence: 0.78\n",
            "----------\n",
            "Input: This is the worst thing\n",
            "Prediction: negative\n",
            "Confidence: 0.93\n",
            "----------\n",
            "Input: I cannot stand this any longer\n",
            "Prediction: negative\n",
            "Confidence: 0.93\n",
            "----------\n",
            "Input: This is really annoying\n",
            "Prediction: negative\n",
            "Confidence: 0.99\n",
            "----------\n",
            "Input: I am just plain fed up\n",
            "Prediction: negative\n",
            "Confidence: 1.00\n",
            "----------\n"
          ]
        }
      ],
      "source": [
        "# Classify the inputs\n",
        "predictions = classify_text(inputs,examples)\n",
        "\n",
        "# Display the classification outcomes\n",
        "classes = [\"positive\",\"negative\",\"neutral\"]\n",
        "for inp,pred in zip(inputs,predictions):\n",
        "  class_pred = pred.prediction\n",
        "  class_idx = classes.index(class_pred)\n",
        "  class_conf = pred.confidence\n",
        "\n",
        "  print(f\"Input: {inp}\")\n",
        "  print(f\"Prediction: {class_pred}\")\n",
        "  print(f\"Confidence: {class_conf:.2f}\")\n",
        "  print(\"-\"*10)"
      ]
    },
    {
      "cell_type": "code",
      "execution_count": null,
      "metadata": {
        "id": "5XTtVliyNVyO"
      },
      "outputs": [],
      "source": []
    }
  ],
  "metadata": {
    "colab": {
      "provenance": []
    },
    "kernelspec": {
      "display_name": "Python 3.10.0 64-bit ('3.10.0')",
      "language": "python",
      "name": "python3"
    },
    "language_info": {
      "name": "python",
      "version": "3.10.0"
    },
    "vscode": {
      "interpreter": {
        "hash": "1fb8019e3560b882083e525615cf48e713d3a7345a15eb723d805e91aa410aac"
      }
    }
  },
  "nbformat": 4,
  "nbformat_minor": 0
}